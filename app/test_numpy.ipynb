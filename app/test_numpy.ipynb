{
 "cells": [
  {
   "cell_type": "code",
   "execution_count": 4,
   "metadata": {},
   "outputs": [
    {
     "name": "stdout",
     "output_type": "stream",
     "text": [
      "[1 2 3 4 5]\n"
     ]
    }
   ],
   "source": [
    "import numpy as np\n",
    "\n",
    "# make ndarray (numpy array\n",
    "# )\n",
    "arr= np.array([1,2,3,4,5])\n",
    "print(arr)"
   ]
  },
  {
   "cell_type": "code",
   "execution_count": 6,
   "metadata": {},
   "outputs": [
    {
     "name": "stdout",
     "output_type": "stream",
     "text": [
      "[[ 1  2  3]\n",
      " [10  9  8]]\n",
      "1\n"
     ]
    }
   ],
   "source": [
    "# make 2d array\n",
    "tow_d = np.array([[1, 2, 3], [10, 9, 8]])\n",
    "print(tow_d)\n",
    "print(tow_d[0][0])"
   ]
  },
  {
   "cell_type": "code",
   "execution_count": 14,
   "metadata": {},
   "outputs": [
    {
     "data": {
      "text/plain": [
       "4212"
      ]
     },
     "execution_count": 14,
     "metadata": {},
     "output_type": "execute_result"
    }
   ],
   "source": [
    "three_d = np.array([\n",
    "    [\n",
    "        [1, 2, 3], [212, 23134, 7675], [122, 4212, 12312]\n",
    "    ],\n",
    "    [\n",
    "        [1, 2, 3], [212, 23134, 7675], [122, 4212, 12312]\n",
    "    ]\n",
    "    \n",
    "])\n",
    "\n",
    "three_d[1][2][1]"
   ]
  }
 ],
 "metadata": {
  "kernelspec": {
   "display_name": ".venv",
   "language": "python",
   "name": "python3"
  },
  "language_info": {
   "codemirror_mode": {
    "name": "ipython",
    "version": 3
   },
   "file_extension": ".py",
   "mimetype": "text/x-python",
   "name": "python",
   "nbconvert_exporter": "python",
   "pygments_lexer": "ipython3",
   "version": "3.11.5"
  }
 },
 "nbformat": 4,
 "nbformat_minor": 2
}
